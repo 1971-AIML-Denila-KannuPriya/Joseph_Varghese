{
 "cells": [
  {
   "cell_type": "markdown",
   "metadata": {},
   "source": [
    "1. Find the second largest element in a list (without using max() function)."
   ]
  },
  {
   "cell_type": "code",
   "execution_count": 25,
   "metadata": {},
   "outputs": [
    {
     "name": "stdout",
     "output_type": "stream",
     "text": [
      "5\n"
     ]
    }
   ],
   "source": [
    "list1 = [1,3,5,7,3]\n",
    "num=0\n",
    "largest=0\n",
    "for i in list1:\n",
    "    if i>largest:\n",
    "        largest = i \n",
    "\n",
    "# print(\"larger number\",largest)\n",
    "second_l =0 \n",
    "\n",
    "for j in list1:\n",
    "    if j>=second_l and j<largest:\n",
    "        second_l = j\n",
    "print(\"second largest\",second_l)"
   ]
  },
  {
   "cell_type": "markdown",
   "metadata": {},
   "source": [
    "2. Check if a number is prime"
   ]
  },
  {
   "cell_type": "code",
   "execution_count": 34,
   "metadata": {},
   "outputs": [
    {
     "name": "stdout",
     "output_type": "stream",
     "text": [
      "True\n",
      "False\n"
     ]
    }
   ],
   "source": [
    "def prime(n):\n",
    "    if n<= 1:\n",
    "        return False\n",
    "    for i in range(2,n):\n",
    "        if n%i == 0:\n",
    "            return False\n",
    "    return True \n",
    "print(prime(5))\n",
    "print(prime(8))"
   ]
  },
  {
   "cell_type": "markdown",
   "metadata": {},
   "source": [
    "3. Write a Python program to reverse a string without using inbuilt functions."
   ]
  },
  {
   "cell_type": "code",
   "execution_count": 41,
   "metadata": {},
   "outputs": [
    {
     "name": "stdout",
     "output_type": "stream",
     "text": [
      "olleH\n"
     ]
    }
   ],
   "source": [
    "def reverse(s):\n",
    "    reversed = \"\" \n",
    "    for i in range(len(s)-1,-1,-1):\n",
    "        reversed +=s[i] \n",
    "    return reversed\n",
    "\n",
    "print(reverse(\"Hello\"))"
   ]
  },
  {
   "cell_type": "markdown",
   "metadata": {},
   "source": [
    "4. Merge two sorted arrays into a single sorted array without using any built-in sort\n",
    "methods."
   ]
  },
  {
   "cell_type": "code",
   "execution_count": 42,
   "metadata": {},
   "outputs": [
    {
     "name": "stdout",
     "output_type": "stream",
     "text": [
      "[1, 2, 3, 4, 5, 6]\n"
     ]
    }
   ],
   "source": [
    "def merge_sorted_arrays(arr1, arr2):\n",
    "    i, j = 0, 0  \n",
    "    merged = []  \n",
    "\n",
    "   \n",
    "    while i < len(arr1) and j < len(arr2):\n",
    "        if arr1[i] < arr2[j]:\n",
    "            merged.append(arr1[i])\n",
    "            i += 1\n",
    "        else:\n",
    "            merged.append(arr2[j])\n",
    "            j += 1\n",
    "\n",
    "    while i < len(arr1):\n",
    "        merged.append(arr1[i])\n",
    "        i += 1\n",
    "\n",
    "    while j < len(arr2):\n",
    "        merged.append(arr2[j])\n",
    "        j += 1\n",
    "\n",
    "    return merged\n",
    "\n",
    "arr1 = [1, 3, 5]\n",
    "arr2 = [2, 4, 6]\n",
    "print(merge_sorted_arrays(arr1, arr2))  "
   ]
  },
  {
   "cell_type": "markdown",
   "metadata": {},
   "source": [
    "5. Write a program to calculate the factorial of a number using recursion."
   ]
  },
  {
   "cell_type": "code",
   "execution_count": 43,
   "metadata": {},
   "outputs": [
    {
     "name": "stdout",
     "output_type": "stream",
     "text": [
      "The factorial of 5 is 120\n"
     ]
    }
   ],
   "source": [
    "def factorial(n):\n",
    "    if n == 0 or n == 1:\n",
    "        return 1\n",
    "    else:\n",
    "        return n * factorial(n - 1)\n",
    "\n",
    "number = 5\n",
    "print(f\"The factorial of {number} is {factorial(number)}\")  \n"
   ]
  },
  {
   "cell_type": "markdown",
   "metadata": {},
   "source": [
    "7. Check if a given string is a palindrome."
   ]
  },
  {
   "cell_type": "code",
   "execution_count": 44,
   "metadata": {},
   "outputs": [
    {
     "name": "stdout",
     "output_type": "stream",
     "text": [
      "'Racecar' is a palindrome!\n"
     ]
    }
   ],
   "source": [
    "def is_palindrome(s):\n",
    "    s = s.lower().replace(\" \", \"\")\n",
    "    return s == s[::-1]\n",
    "\n",
    "word = \"Racecar\"\n",
    "if is_palindrome(word):\n",
    "    print(f\"'{word}' is a palindrome!\")\n",
    "else:\n",
    "    print(f\"'{word}' is not a palindrome!\")\n"
   ]
  },
  {
   "cell_type": "markdown",
   "metadata": {},
   "source": [
    "8. Convert a decimal number to binary without using built-in functions."
   ]
  },
  {
   "cell_type": "code",
   "execution_count": 45,
   "metadata": {},
   "outputs": [
    {
     "name": "stdout",
     "output_type": "stream",
     "text": [
      "Binary of 10 is 1010\n"
     ]
    }
   ],
   "source": [
    "def decimal_to_binary(n):\n",
    "    binary = \"\"\n",
    "    while n > 0:\n",
    "        remainder = n % 2  \n",
    "        binary = str(remainder) + binary  \n",
    "        n = n // 2  \n",
    "    return binary or \"0\"  \n",
    "\n",
    "decimal_number = 10\n",
    "binary_representation = decimal_to_binary(decimal_number)\n",
    "print(f\"Binary of {decimal_number} is {binary_representation}\")\n"
   ]
  },
  {
   "cell_type": "markdown",
   "metadata": {},
   "source": [
    "9. Find pairs in an array with a given sum."
   ]
  },
  {
   "cell_type": "code",
   "execution_count": 46,
   "metadata": {},
   "outputs": [
    {
     "name": "stdout",
     "output_type": "stream",
     "text": [
      "Pairs with sum 10: [(3, 7), (1, 9)]\n"
     ]
    }
   ],
   "source": [
    "def find_pairs_brute_force(arr, target_sum):\n",
    "    pairs = []\n",
    "    for i in range(len(arr)):\n",
    "        for j in range(i + 1, len(arr)):  \n",
    "            if arr[i] + arr[j] == target_sum:\n",
    "                pairs.append((arr[i], arr[j]))  \n",
    "    return pairs\n",
    "\n",
    "arr = [2, 4, 3, 7, 1, 9]\n",
    "target_sum = 10\n",
    "print(f\"Pairs with sum {target_sum}: {find_pairs_brute_force(arr, target_sum)}\")\n"
   ]
  },
  {
   "cell_type": "markdown",
   "metadata": {},
   "source": [
    "10. Count the frequency of elements in a list"
   ]
  },
  {
   "cell_type": "code",
   "execution_count": 47,
   "metadata": {},
   "outputs": [
    {
     "name": "stdout",
     "output_type": "stream",
     "text": [
      "Frequency of elements: {1: 3, 3: 2, 2: 2, 4: 1, 5: 1}\n"
     ]
    }
   ],
   "source": [
    "def count_frequency_brute_force(lst):\n",
    "    freq = {}  \n",
    "    for i in lst:\n",
    "        count = 0\n",
    "        for j in lst:\n",
    "            if i == j:\n",
    "                count += 1\n",
    "        freq[i] = count\n",
    "    return freq\n",
    "\n",
    "lst = [1, 3, 2, 1, 4, 3, 2, 1, 5]\n",
    "print(f\"Frequency of elements: {count_frequency_brute_force(lst)}\")\n"
   ]
  },
  {
   "cell_type": "markdown",
   "metadata": {},
   "source": [
    "11. Fibonacci sequence: Write a program to generate the first N numbers in the Fibonacci\n",
    "sequence using recursion."
   ]
  },
  {
   "cell_type": "code",
   "execution_count": 48,
   "metadata": {},
   "outputs": [
    {
     "name": "stdout",
     "output_type": "stream",
     "text": [
      "First 10 numbers in the Fibonacci sequence: [0, 1, 1, 2, 3, 5, 8, 13, 21, 34]\n"
     ]
    }
   ],
   "source": [
    "def fibonacci(n):\n",
    "    if n == 0:\n",
    "        return 0\n",
    "    elif n == 1:\n",
    "        return 1\n",
    "    else:\n",
    "        return fibonacci(n-1) + fibonacci(n-2)\n",
    "\n",
    "def generate_fibonacci(N):\n",
    "    fib_sequence = []\n",
    "    for i in range(N):\n",
    "        fib_sequence.append(fibonacci(i))  \n",
    "    return fib_sequence\n",
    "\n",
    "N = 10  \n",
    "print(f\"First {N} numbers in the Fibonacci sequence: {generate_fibonacci(N)}\")\n",
    "\n"
   ]
  },
  {
   "cell_type": "markdown",
   "metadata": {},
   "source": [
    "12. Remove duplicates from a list: Write a program to remove duplicate elements from a\n",
    "list while preserving the order of elements."
   ]
  },
  {
   "cell_type": "code",
   "execution_count": 49,
   "metadata": {},
   "outputs": [
    {
     "name": "stdout",
     "output_type": "stream",
     "text": [
      "List after removing duplicates: [1, 2, 3, 4, 5]\n"
     ]
    }
   ],
   "source": [
    "def remove_duplicates_with_comprehension(lst):\n",
    "    seen = set()\n",
    "    return [seen.add(item) or item for item in lst if item not in seen]\n",
    "\n",
    "lst = [1, 2, 3, 1, 4, 2, 5, 3]\n",
    "print(f\"List after removing duplicates: {remove_duplicates_with_comprehension(lst)}\")\n"
   ]
  },
  {
   "cell_type": "markdown",
   "metadata": {},
   "source": [
    "13. Anagram check: Write a Python function that checks if two strings are anagrams of each\n",
    "other (i.e., if they contain the same characters in any order)"
   ]
  },
  {
   "cell_type": "code",
   "execution_count": 50,
   "metadata": {},
   "outputs": [
    {
     "name": "stdout",
     "output_type": "stream",
     "text": [
      "Are 'Listen' and 'Silent' anagrams? True\n"
     ]
    }
   ],
   "source": [
    "def are_anagrams_sorting(str1, str2):\n",
    "    str1 = str1.replace(\" \", \"\").lower()\n",
    "    str2 = str2.replace(\" \", \"\").lower()\n",
    "    \n",
    "    return sorted(str1) == sorted(str2)\n",
    "\n",
    "str1 = \"Listen\"\n",
    "str2 = \"Silent\"\n",
    "print(f\"Are '{str1}' and '{str2}' anagrams? {are_anagrams_sorting(str1, str2)}\")\n"
   ]
  },
  {
   "cell_type": "markdown",
   "metadata": {},
   "source": [
    "14. Count vowels and consonants: Write a program that takes a string as input and\n",
    "counts the number of vowels and consonants in it"
   ]
  },
  {
   "cell_type": "code",
   "execution_count": null,
   "metadata": {},
   "outputs": [],
   "source": [
    "def count_vowels_and_consonants(string):\n",
    "    string = string.lower()\n",
    "    vowels = 'aeiou'\n",
    "    vowel_count = 0\n",
    "    consonant_count = 0\n",
    "\n",
    "    for char in string:\n",
    "        if char.isalpha(): \n",
    "            if char in vowels:\n",
    "                vowel_count += 1\n",
    "            else:\n",
    "                consonant_count += 1\n",
    "    \n",
    "    return vowel_count, consonant_count\n",
    "\n",
    "input_string = \"Hello, World!\"\n",
    "vowels, consonants = count_vowels_and_consonants(input_string)\n",
    "print(f\"Vowels: {vowels}, Consonants: {consonants}\")\n"
   ]
  },
  {
   "cell_type": "markdown",
   "metadata": {},
   "source": [
    "15. Binary search algorithm: Implement the binary search algorithm for a sorted list and\n",
    "return the index of a target value."
   ]
  },
  {
   "cell_type": "code",
   "execution_count": 51,
   "metadata": {},
   "outputs": [
    {
     "name": "stdout",
     "output_type": "stream",
     "text": [
      "Target 7 found at index: 6\n"
     ]
    }
   ],
   "source": [
    "def binary_search_iterative(sorted_list, target):\n",
    "    left, right = 0, len(sorted_list) - 1\n",
    "\n",
    "    while left <= right:\n",
    "        mid = left + (right - left) // 2  \n",
    "        if sorted_list[mid] == target:\n",
    "            return mid  \n",
    "        elif sorted_list[mid] < target:\n",
    "            left = mid + 1  \n",
    "        else:\n",
    "            right = mid - 1  \n",
    "    \n",
    "    return -1  \n",
    "\n",
    "sorted_list = [1, 2, 3, 4, 5, 6, 7, 8, 9, 10]\n",
    "target = 7\n",
    "index = binary_search_iterative(sorted_list, target)\n",
    "print(f\"Target {target} found at index: {index}\")\n"
   ]
  },
  {
   "cell_type": "code",
   "execution_count": null,
   "metadata": {},
   "outputs": [],
   "source": []
  }
 ],
 "metadata": {
  "kernelspec": {
   "display_name": "Python 3",
   "language": "python",
   "name": "python3"
  },
  "language_info": {
   "codemirror_mode": {
    "name": "ipython",
    "version": 3
   },
   "file_extension": ".py",
   "mimetype": "text/x-python",
   "name": "python",
   "nbconvert_exporter": "python",
   "pygments_lexer": "ipython3",
   "version": "3.12.4"
  }
 },
 "nbformat": 4,
 "nbformat_minor": 2
}
