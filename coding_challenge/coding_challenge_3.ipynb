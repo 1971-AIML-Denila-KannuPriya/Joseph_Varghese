{
 "cells": [
  {
   "cell_type": "markdown",
   "metadata": {},
   "source": [
    "1. Problem: Implement the K-nearest neighbors (KNN) algorithm from scratch. Given a\n",
    "dataset and a query point, classify the query based on the majority label of its k-nearest\n",
    "neighbors."
   ]
  },
  {
   "cell_type": "code",
   "execution_count": 1,
   "metadata": {},
   "outputs": [
    {
     "name": "stdout",
     "output_type": "stream",
     "text": [
      "The predicted label for the query point [5.0, 3.0] is: A\n"
     ]
    }
   ],
   "source": [
    "import numpy as np\n",
    "from collections import Counter\n",
    "\n",
    "# Step 1: Function to compute the Euclidean distance between two points\n",
    "def euclidean_distance(point1, point2):\n",
    "    return np.sqrt(np.sum((np.array(point1) - np.array(point2)) ** 2))\n",
    "\n",
    "# Step 2: Find the k-nearest neighbors\n",
    "def get_k_nearest_neighbors(training_data, query_point, k):\n",
    "    distances = []\n",
    "    \n",
    "    # Calculate the distance between query point and each point in the dataset\n",
    "    for data_point in training_data:\n",
    "        distance = euclidean_distance(query_point, data_point[:-1])  # Exclude the label\n",
    "        distances.append((data_point, distance))\n",
    "    \n",
    "    # Sort by distance and return the k-nearest neighbors\n",
    "    distances.sort(key=lambda x: x[1])\n",
    "    neighbors = [distances[i][0] for i in range(k)]\n",
    "    return neighbors\n",
    "\n",
    "# Step 3: Perform majority voting to classify the query point\n",
    "def majority_vote(neighbors):\n",
    "    labels = [neighbor[-1] for neighbor in neighbors]  # Get the labels of neighbors\n",
    "    most_common = Counter(labels).most_common(1)  # Find the label that appears the most\n",
    "    return most_common[0][0]\n",
    "\n",
    "# KNN Classifier\n",
    "def knn_classifier(training_data, query_point, k):\n",
    "    neighbors = get_k_nearest_neighbors(training_data, query_point, k)\n",
    "    return majority_vote(neighbors)\n",
    "\n",
    "# Sample dataset: [features..., label]\n",
    "training_data = [\n",
    "    [2.0, 3.0, 'A'],\n",
    "    [1.0, 1.0, 'B'],\n",
    "    [4.0, 2.0, 'A'],\n",
    "    [6.0, 5.0, 'B'],\n",
    "    [3.0, 3.0, 'A'],\n",
    "    [7.0, 8.0, 'B']\n",
    "]\n",
    "\n",
    "# Example query point\n",
    "query_point = [5.0, 3.0]\n",
    "\n",
    "# Set the number of neighbors (k)\n",
    "k = 3\n",
    "\n",
    "# Perform classification\n",
    "result = knn_classifier(training_data, query_point, k)\n",
    "print(f\"The predicted label for the query point {query_point} is: {result}\")\n"
   ]
  },
  {
   "cell_type": "markdown",
   "metadata": {},
   "source": [
    "2. Problem: Implement logistic regression in Python. Include training using gradient descent,\n",
    "and calculate class probabilities for binary classification."
   ]
  },
  {
   "cell_type": "code",
   "execution_count": 2,
   "metadata": {},
   "outputs": [
    {
     "name": "stdout",
     "output_type": "stream",
     "text": [
      "Iteration 0, Cost: 0.6917854297965054\n",
      "Iteration 100, Cost: 0.6501295135671598\n",
      "Iteration 200, Cost: 0.6177745587666571\n",
      "Iteration 300, Cost: 0.5884690496913079\n",
      "Iteration 400, Cost: 0.5618923947992228\n",
      "Iteration 500, Cost: 0.5377500037912307\n",
      "Iteration 600, Cost: 0.5157748664608409\n",
      "Iteration 700, Cost: 0.49572746396065936\n",
      "Iteration 800, Cost: 0.4773945770374852\n",
      "Iteration 900, Cost: 0.4605874373337157\n",
      "Trained Weights: [ 0.86987631 -0.35051264 -1.22038895]\n",
      "Predictions: [0, 0, 0, 1, 1]\n"
     ]
    }
   ],
   "source": [
    "import numpy as np\n",
    "\n",
    "# Step 1: Define the sigmoid function\n",
    "def sigmoid(z):\n",
    "    return 1 / (1 + np.exp(-z))\n",
    "\n",
    "# Step 2: Define the cost function (binary cross-entropy) and gradient\n",
    "def compute_cost(X, y, weights):\n",
    "    m = len(y)\n",
    "    h = sigmoid(np.dot(X, weights))  # Predicted values\n",
    "    cost = (-1/m) * (np.dot(y, np.log(h)) + np.dot(1 - y, np.log(1 - h)))\n",
    "    return cost\n",
    "\n",
    "# Step 3: Perform gradient descent to update weights\n",
    "def gradient_descent(X, y, weights, learning_rate, num_iterations):\n",
    "    m = len(y)\n",
    "    \n",
    "    for i in range(num_iterations):\n",
    "        # Step 4: Update weights using gradient descent\n",
    "        h = sigmoid(np.dot(X, weights))\n",
    "        gradient = np.dot(X.T, (h - y)) / m\n",
    "        weights -= learning_rate * gradient\n",
    "\n",
    "        # Optionally print cost every 100 iterations\n",
    "        if i % 100 == 0:\n",
    "            cost = compute_cost(X, y, weights)\n",
    "            print(f\"Iteration {i}, Cost: {cost}\")\n",
    "    \n",
    "    return weights\n",
    "\n",
    "# Step 5: Predict probabilities and class (binary classification)\n",
    "def predict(X, weights):\n",
    "    probabilities = sigmoid(np.dot(X, weights))\n",
    "    return [1 if p >= 0.5 else 0 for p in probabilities]\n",
    "\n",
    "# Step 6: Logistic Regression function\n",
    "def logistic_regression(X, y, learning_rate, num_iterations):\n",
    "    # Initialize weights (one for each feature + bias)\n",
    "    weights = np.zeros(X.shape[1])\n",
    "    \n",
    "    # Train the model using gradient descent\n",
    "    weights = gradient_descent(X, y, weights, learning_rate, num_iterations)\n",
    "    \n",
    "    return weights\n",
    "\n",
    "# Example usage:\n",
    "if __name__ == \"__main__\":\n",
    "    # Sample dataset: [Feature1, Feature2, Bias (x0 = 1)]\n",
    "    X = np.array([\n",
    "        [1, 2, 1],  # Bias term (x0 = 1)\n",
    "        [2, 3, 1],\n",
    "        [3, 4, 1],\n",
    "        [4, 5, 1],\n",
    "        [5, 6, 1]\n",
    "    ])\n",
    "    \n",
    "    # Labels (y)\n",
    "    y = np.array([0, 0, 0, 1, 1])\n",
    "\n",
    "    # Parameters\n",
    "    learning_rate = 0.01\n",
    "    num_iterations = 1000\n",
    "\n",
    "    # Train logistic regression model\n",
    "    trained_weights = logistic_regression(X, y, learning_rate, num_iterations)\n",
    "    \n",
    "    # Make predictions\n",
    "    predictions = predict(X, trained_weights)\n",
    "    \n",
    "    print(f\"Trained Weights: {trained_weights}\")\n",
    "    print(f\"Predictions: {predictions}\")\n"
   ]
  },
  {
   "cell_type": "markdown",
   "metadata": {},
   "source": [
    "3. Problem: Write a function to perform matrix multiplication without using external libraries\n",
    "like NumPy. Multiply two matrices representing weight matrices and input vectors in a neural\n",
    "network layer"
   ]
  },
  {
   "cell_type": "code",
   "execution_count": 3,
   "metadata": {},
   "outputs": [
    {
     "name": "stdout",
     "output_type": "stream",
     "text": [
      "Result of A * B:\n",
      "[58, 64]\n",
      "[139, 154]\n"
     ]
    }
   ],
   "source": [
    "# Step 1: Define matrix multiplication function\n",
    "def matrix_multiply(A, B):\n",
    "    # Get the dimensions of the matrices\n",
    "    rows_A, cols_A = len(A), len(A[0])\n",
    "    rows_B, cols_B = len(B), len(B[0])\n",
    "    \n",
    "    # Ensure the number of columns in A equals the number of rows in B\n",
    "    if cols_A != rows_B:\n",
    "        raise ValueError(\"Number of columns in A must equal number of rows in B\")\n",
    "    \n",
    "    # Initialize the result matrix with zeros\n",
    "    result = [[0 for _ in range(cols_B)] for _ in range(rows_A)]\n",
    "    \n",
    "    # Perform matrix multiplication\n",
    "    for i in range(rows_A):\n",
    "        for j in range(cols_B):\n",
    "            for k in range(cols_A):\n",
    "                result[i][j] += A[i][k] * B[k][j]\n",
    "    \n",
    "    return result\n",
    "\n",
    "# Example usage:\n",
    "if __name__ == \"__main__\":\n",
    "    # Sample matrices\n",
    "    A = [\n",
    "        [1, 2, 3],\n",
    "        [4, 5, 6]\n",
    "    ]\n",
    "    \n",
    "    B = [\n",
    "        [7, 8],\n",
    "        [9, 10],\n",
    "        [11, 12]\n",
    "    ]\n",
    "    \n",
    "    # Perform matrix multiplication\n",
    "    result = matrix_multiply(A, B)\n",
    "    \n",
    "    # Print the result\n",
    "    print(\"Result of A * B:\")\n",
    "    for row in result:\n",
    "        print(row)\n"
   ]
  },
  {
   "cell_type": "markdown",
   "metadata": {},
   "source": [
    "4. Problem: Write a Python function that deep copies a neural network represented as a\n",
    "nested list of layers, where each layer contains weight matrices."
   ]
  },
  {
   "cell_type": "code",
   "execution_count": 4,
   "metadata": {},
   "outputs": [
    {
     "name": "stdout",
     "output_type": "stream",
     "text": [
      "Original Neural Network:\n",
      "[[[1.0, 0.5, 0.1], [0.4, 0.7, 0.3]], [[0.6, 0.8], [0.9, 0.2], [0.3, 0.4]]]\n",
      "\n",
      "Copied Neural Network:\n",
      "[[[0.2, 0.5, 0.1], [0.4, 0.7, 0.3]], [[0.6, 0.8], [0.9, 0.2], [0.3, 0.4]]]\n"
     ]
    }
   ],
   "source": [
    "import copy\n",
    "\n",
    "# Step 1: Define the function to deep copy a neural network\n",
    "def deep_copy_neural_network(network):\n",
    "    # Use Python's built-in deepcopy function to create a deep copy of the network\n",
    "    return copy.deepcopy(network)\n",
    "\n",
    "# Example usage:\n",
    "if __name__ == \"__main__\":\n",
    "    # Sample neural network represented as a nested list of layers (each layer has a weight matrix)\n",
    "    neural_network = [\n",
    "        # Layer 1 weights (2x3 matrix)\n",
    "        [\n",
    "            [0.2, 0.5, 0.1],\n",
    "            [0.4, 0.7, 0.3]\n",
    "        ],\n",
    "        # Layer 2 weights (3x2 matrix)\n",
    "        [\n",
    "            [0.6, 0.8],\n",
    "            [0.9, 0.2],\n",
    "            [0.3, 0.4]\n",
    "        ]\n",
    "    ]\n",
    "    \n",
    "    # Perform a deep copy of the neural network\n",
    "    copied_network = deep_copy_neural_network(neural_network)\n",
    "    \n",
    "    # Modify the original neural network to verify that the copy is independent\n",
    "    neural_network[0][0][0] = 1.0  # Modify an element in the original network\n",
    "    \n",
    "    # Print original and copied networks\n",
    "    print(\"Original Neural Network:\")\n",
    "    print(neural_network)\n",
    "    \n",
    "    print(\"\\nCopied Neural Network:\")\n",
    "    print(copied_network)\n"
   ]
  },
  {
   "cell_type": "markdown",
   "metadata": {},
   "source": [
    "5. Problem: Implement a moving average filter for a time series. Given a series of numbers\n",
    "and a window size, return the moving average of the series."
   ]
  },
  {
   "cell_type": "code",
   "execution_count": 5,
   "metadata": {},
   "outputs": [
    {
     "name": "stdout",
     "output_type": "stream",
     "text": [
      "Moving Average: [20.0, 30.0, 40.0, 50.0, 60.0]\n"
     ]
    }
   ],
   "source": [
    "# Step 1: Define the moving average function\n",
    "def moving_average(time_series, window_size):\n",
    "    result = []\n",
    "    \n",
    "    # Step 2: Calculate moving averages\n",
    "    for i in range(len(time_series) - window_size + 1):\n",
    "        window = time_series[i:i + window_size]  # Get the current window\n",
    "        window_avg = sum(window) / window_size  # Calculate the average of the window\n",
    "        result.append(window_avg)\n",
    "    \n",
    "    return result\n",
    "\n",
    "# Example usage:\n",
    "if __name__ == \"__main__\":\n",
    "    # Sample time series\n",
    "    time_series = [10, 20, 30, 40, 50, 60, 70]\n",
    "    \n",
    "    # Window size\n",
    "    window_size = 3\n",
    "    \n",
    "    # Compute moving average\n",
    "    result = moving_average(time_series, window_size)\n",
    "    \n",
    "    # Print the result\n",
    "    print(\"Moving Average:\", result)\n"
   ]
  },
  {
   "cell_type": "markdown",
   "metadata": {},
   "source": [
    "6. Problem: Write a Python function that applies the ReLU activation function to a list of\n",
    "inputs"
   ]
  },
  {
   "cell_type": "code",
   "execution_count": 6,
   "metadata": {},
   "outputs": [
    {
     "name": "stdout",
     "output_type": "stream",
     "text": [
      "ReLU Output: [0, 3, 0, 7, 0, 0]\n"
     ]
    }
   ],
   "source": [
    "# Step 1: Define the ReLU function\n",
    "def relu(inputs):\n",
    "    # Apply ReLU to each element in the input list\n",
    "    return [max(0, x) for x in inputs]\n",
    "\n",
    "# Example usage:\n",
    "if __name__ == \"__main__\":\n",
    "    # Sample input list\n",
    "    inputs = [-5, 3, -2, 7, -1, 0]\n",
    "    \n",
    "    # Apply ReLU function\n",
    "    result = relu(inputs)\n",
    "    \n",
    "    # Print the result\n",
    "    print(\"ReLU Output:\", result)\n"
   ]
  },
  {
   "cell_type": "markdown",
   "metadata": {},
   "source": [
    "7. Problem: Implement gradient descent to train a linear regression model. Minimize the\n",
    "mean squared error by adjusting the model weights iteratively"
   ]
  },
  {
   "cell_type": "code",
   "execution_count": 7,
   "metadata": {},
   "outputs": [
    {
     "name": "stdout",
     "output_type": "stream",
     "text": [
      "Trained model: y = 2.02 * x + 2.92\n",
      "Mean Squared Error: 0.00\n"
     ]
    }
   ],
   "source": [
    "# Step 1: Define the linear regression model and gradient descent function\n",
    "def gradient_descent(X, y, learning_rate, epochs):\n",
    "    # Initialize weights (w) and bias (b) to 0\n",
    "    w, b = 0.0, 0.0\n",
    "    \n",
    "    n = len(X)  # Number of data points\n",
    "    \n",
    "    # Step 2: Perform gradient descent for the specified number of epochs\n",
    "    for _ in range(epochs):\n",
    "        # Predicted value for each data point\n",
    "        y_pred = w * X + b\n",
    "        \n",
    "        # Compute the gradients\n",
    "        dw = -(2/n) * sum(X * (y - y_pred))  # Gradient w.r.t. weight\n",
    "        db = -(2/n) * sum(y - y_pred)        # Gradient w.r.t. bias\n",
    "        \n",
    "        # Update the weights and bias\n",
    "        w -= learning_rate * dw\n",
    "        b -= learning_rate * db\n",
    "    \n",
    "    return w, b\n",
    "\n",
    "# Step 3: Define mean squared error function\n",
    "def mean_squared_error(X, y, w, b):\n",
    "    y_pred = w * X + b\n",
    "    return sum((y - y_pred) ** 2) / len(X)\n",
    "\n",
    "# Example usage:\n",
    "if __name__ == \"__main__\":\n",
    "    # Sample data (X: inputs, y: labels)\n",
    "    X = [1, 2, 3, 4, 5]\n",
    "    y = [5, 7, 9, 11, 13]\n",
    "    \n",
    "    # Learning rate and number of iterations\n",
    "    learning_rate = 0.01\n",
    "    epochs = 1000\n",
    "    \n",
    "    # Convert lists to arrays for mathematical operations\n",
    "    X = np.array(X)\n",
    "    y = np.array(y)\n",
    "    \n",
    "    # Train the model using gradient descent\n",
    "    w, b = gradient_descent(X, y, learning_rate, epochs)\n",
    "    \n",
    "    # Output the learned weights and bias\n",
    "    print(f\"Trained model: y = {w:.2f} * x + {b:.2f}\")\n",
    "    \n",
    "    # Calculate and print the mean squared error\n",
    "    mse = mean_squared_error(X, y, w, b)\n",
    "    print(f\"Mean Squared Error: {mse:.2f}\")\n"
   ]
  },
  {
   "cell_type": "markdown",
   "metadata": {},
   "source": [
    "8. Problem: Write a Python function to perform one-hot encoding of categorical labels for a\n",
    "machine learning task"
   ]
  },
  {
   "cell_type": "code",
   "execution_count": 8,
   "metadata": {},
   "outputs": [
    {
     "name": "stdout",
     "output_type": "stream",
     "text": [
      "One-Hot Encoded Labels:\n",
      "cat: [0, 1, 0]\n",
      "dog: [1, 0, 0]\n",
      "cat: [0, 1, 0]\n",
      "bird: [0, 0, 1]\n"
     ]
    }
   ],
   "source": [
    "# Step 1: Define the one-hot encoding function\n",
    "def one_hot_encode(labels):\n",
    "    unique_labels = list(set(labels))  # Get unique labels\n",
    "    one_hot = []\n",
    "    \n",
    "    # Step 2: Create one-hot encoded vectors\n",
    "    for label in labels:\n",
    "        encoding = [1 if label == unique else 0 for unique in unique_labels]\n",
    "        one_hot.append(encoding)\n",
    "    \n",
    "    return one_hot\n",
    "\n",
    "# Example usage:\n",
    "if __name__ == \"__main__\":\n",
    "    # Sample categorical labels\n",
    "    labels = ['cat', 'dog', 'cat', 'bird']\n",
    "    \n",
    "    # Perform one-hot encoding\n",
    "    encoded_labels = one_hot_encode(labels)\n",
    "    \n",
    "    # Print the result\n",
    "    print(\"One-Hot Encoded Labels:\")\n",
    "    for label, encoding in zip(labels, encoded_labels):\n",
    "        print(f\"{label}: {encoding}\")\n"
   ]
  },
  {
   "cell_type": "markdown",
   "metadata": {},
   "source": [
    "9. Problem: Implement a Python function to calculate the cosine similarity between two\n",
    "vectors, which is often used in text similarity tasks."
   ]
  },
  {
   "cell_type": "code",
   "execution_count": null,
   "metadata": {},
   "outputs": [],
   "source": []
  },
  {
   "cell_type": "code",
   "execution_count": 9,
   "metadata": {},
   "outputs": [
    {
     "name": "stdout",
     "output_type": "stream",
     "text": [
      "Cosine Similarity: 0.9746\n"
     ]
    }
   ],
   "source": [
    "# Step 1: Define the cosine similarity function\n",
    "def cosine_similarity(vec1, vec2):\n",
    "    # Step 2: Calculate the dot product\n",
    "    dot_product = sum(v1 * v2 for v1, v2 in zip(vec1, vec2))\n",
    "    \n",
    "    # Step 3: Calculate the magnitudes (lengths) of the vectors\n",
    "    magnitude_vec1 = sum(v1 ** 2 for v1 in vec1) ** 0.5\n",
    "    magnitude_vec2 = sum(v2 ** 2 for v2 in vec2) ** 0.5\n",
    "    \n",
    "    # Step 4: Calculate cosine similarity (avoid division by zero)\n",
    "    if magnitude_vec1 == 0 or magnitude_vec2 == 0:\n",
    "        return 0\n",
    "    return dot_product / (magnitude_vec1 * magnitude_vec2)\n",
    "\n",
    "# Example usage:\n",
    "if __name__ == \"__main__\":\n",
    "    # Sample vectors\n",
    "    vec1 = [1, 2, 3]\n",
    "    vec2 = [4, 5, 6]\n",
    "    \n",
    "    # Calculate cosine similarity\n",
    "    result = cosine_similarity(vec1, vec2)\n",
    "    \n",
    "    # Print the result\n",
    "    print(f\"Cosine Similarity: {result:.4f}\")\n"
   ]
  },
  {
   "cell_type": "markdown",
   "metadata": {},
   "source": [
    "10. Problem: Given a trained neural network in Python, write a function to prune the network\n",
    "by removing neurons that have small or zero weights."
   ]
  },
  {
   "cell_type": "code",
   "execution_count": 10,
   "metadata": {},
   "outputs": [
    {
     "name": "stdout",
     "output_type": "stream",
     "text": [
      "Pruned Neural Network:\n",
      "[[0.1, 0.2, 0]]\n",
      "[[0.5, 0.3, 0]]\n",
      "[[0.2, 0.4]]\n"
     ]
    }
   ],
   "source": [
    "# Step 1: Define the pruning function\n",
    "def prune_network(network, threshold):\n",
    "    \"\"\"\n",
    "    Prune neurons in the neural network with weights below the specified threshold.\n",
    "    \n",
    "    :param network: A nested list representing the neural network's layers and weights.\n",
    "    :param threshold: A float representing the weight threshold for pruning.\n",
    "    :return: A pruned version of the neural network.\n",
    "    \"\"\"\n",
    "    pruned_network = []\n",
    "\n",
    "    # Step 2: Iterate through each layer in the network\n",
    "    for layer in network:\n",
    "        pruned_layer = []\n",
    "        for neuron_weights in layer:\n",
    "            # Step 3: Check if the weights are above the threshold\n",
    "            if any(abs(weight) > threshold for weight in neuron_weights):\n",
    "                pruned_layer.append(neuron_weights)  # Keep the neuron\n",
    "        pruned_network.append(pruned_layer)  # Add the pruned layer\n",
    "\n",
    "    return pruned_network\n",
    "\n",
    "# Example usage:\n",
    "if __name__ == \"__main__\":\n",
    "    # Sample neural network: each inner list represents weights of a neuron\n",
    "    network = [\n",
    "        [[0.1, 0.2, 0], [0, 0, 0]],   # Layer 1\n",
    "        [[0, 0, 0], [0.5, 0.3, 0]],   # Layer 2\n",
    "        [[0.2, 0.4], [0, 0.1]]         # Layer 3\n",
    "    ]\n",
    "\n",
    "    # Prune the network with a threshold of 0.1\n",
    "    threshold = 0.1\n",
    "    pruned_network = prune_network(network, threshold)\n",
    "\n",
    "    # Print the pruned network\n",
    "    print(\"Pruned Neural Network:\")\n",
    "    for layer in pruned_network:\n",
    "        print(layer)\n"
   ]
  },
  {
   "cell_type": "markdown",
   "metadata": {},
   "source": [
    "11. Problem: Implement a Python function to compute the confusion matrix given true and\n",
    "predicted labels for a classification task."
   ]
  },
  {
   "cell_type": "code",
   "execution_count": 11,
   "metadata": {},
   "outputs": [
    {
     "name": "stdout",
     "output_type": "stream",
     "text": [
      "Confusion Matrix:\n",
      "dog: {'dog': 2, 'cat': 1}\n",
      "cat: {'dog': 1, 'cat': 2}\n"
     ]
    }
   ],
   "source": [
    "# Step 1: Define the function to compute the confusion matrix\n",
    "def confusion_matrix(true_labels, predicted_labels):\n",
    "    # Step 2: Get unique classes from true labels\n",
    "    classes = list(set(true_labels))\n",
    "    matrix = {cls: {c: 0 for c in classes} for cls in classes}  # Initialize matrix\n",
    "\n",
    "    # Step 3: Populate the confusion matrix\n",
    "    for true, pred in zip(true_labels, predicted_labels):\n",
    "        matrix[true][pred] += 1\n",
    "\n",
    "    return matrix\n",
    "\n",
    "# Example usage:\n",
    "if __name__ == \"__main__\":\n",
    "    # Sample true and predicted labels\n",
    "    true_labels = ['cat', 'dog', 'dog', 'cat', 'cat', 'dog']\n",
    "    predicted_labels = ['cat', 'dog', 'cat', 'cat', 'dog', 'dog']\n",
    "\n",
    "    # Compute confusion matrix\n",
    "    cm = confusion_matrix(true_labels, predicted_labels)\n",
    "\n",
    "    # Print the confusion matrix\n",
    "    print(\"Confusion Matrix:\")\n",
    "    for cls, row in cm.items():\n",
    "        print(f\"{cls}: {row}\")\n"
   ]
  },
  {
   "cell_type": "markdown",
   "metadata": {},
   "source": [
    "12. Problem: Write a Python function that performs mini-batch gradient descent for optimizing\n",
    "the weights of a neural network."
   ]
  },
  {
   "cell_type": "code",
   "execution_count": 13,
   "metadata": {},
   "outputs": [
    {
     "name": "stdout",
     "output_type": "stream",
     "text": [
      "Layer 1 weights:\n",
      "[[0.25462057 2.95598253]\n",
      " [1.05513304 3.27163676]]\n",
      "Layer 2 weights:\n",
      "[[-3.11386671]\n",
      " [ 2.48876804]]\n"
     ]
    }
   ],
   "source": [
    "import numpy as np\n",
    "import random\n",
    "\n",
    "# Step 1: Define the sigmoid activation function and its derivative\n",
    "def sigmoid(x):\n",
    "    return 1 / (1 + np.exp(-x))\n",
    "\n",
    "def sigmoid_derivative(x):\n",
    "    return x * (1 - x)\n",
    "\n",
    "# Step 2: Define the mini-batch gradient descent function\n",
    "def mini_batch_gradient_descent(X, y, weights, learning_rate=0.01, batch_size=5, epochs=100):\n",
    "    \"\"\"\n",
    "    Perform mini-batch gradient descent to optimize the weights of a neural network.\n",
    "    \n",
    "    :param X: Input data (features).\n",
    "    :param y: True labels (target values).\n",
    "    :param weights: Initial weights of the neural network.\n",
    "    :param learning_rate: The learning rate for weight updates.\n",
    "    :param batch_size: Number of samples per mini-batch.\n",
    "    :param epochs: Number of iterations over the entire dataset.\n",
    "    \"\"\"\n",
    "    n_samples = len(X)\n",
    "    \n",
    "    for epoch in range(epochs):\n",
    "        # Step 3: Shuffle the data for each epoch\n",
    "        combined = list(zip(X, y))\n",
    "        random.shuffle(combined)\n",
    "        X_shuffled, y_shuffled = zip(*combined)\n",
    "        X_shuffled = np.array(X_shuffled)\n",
    "        y_shuffled = np.array(y_shuffled)\n",
    "\n",
    "        # Step 4: Create mini-batches\n",
    "        for i in range(0, n_samples, batch_size):\n",
    "            X_batch = X_shuffled[i:i + batch_size]\n",
    "            y_batch = y_shuffled[i:i + batch_size]\n",
    "            \n",
    "            # Step 5: Forward pass\n",
    "            layer_input = X_batch\n",
    "            activations = []\n",
    "            for weight in weights:\n",
    "                layer_input = sigmoid(np.dot(layer_input, weight))\n",
    "                activations.append(layer_input)\n",
    "\n",
    "            # Step 6: Compute the loss\n",
    "            loss = activations[-1] - y_batch\n",
    "\n",
    "            # Step 7: Backward pass\n",
    "            gradients = []\n",
    "            for layer in reversed(range(len(weights))):\n",
    "                if layer == len(weights) - 1:  # Output layer\n",
    "                    gradient = loss * sigmoid_derivative(activations[layer])\n",
    "                else:  # Hidden layers\n",
    "                    gradient = np.dot(loss, weights[layer + 1].T) * sigmoid_derivative(activations[layer])\n",
    "                \n",
    "                gradients.append(np.dot(activations[layer - 1].T, gradient) if layer > 0 else np.dot(X_batch.T, gradient))\n",
    "                loss = gradient\n",
    "            \n",
    "            # Step 8: Update weights\n",
    "            for j in range(len(weights)):\n",
    "                weights[j] -= learning_rate * gradients[-(j + 1)]\n",
    "\n",
    "    return weights\n",
    "\n",
    "# Example usage:\n",
    "if __name__ == \"__main__\":\n",
    "    # Sample input data (features) and true labels\n",
    "    X = np.array([[0, 0], [0, 1], [1, 0], [1, 1]])\n",
    "    y = np.array([[0], [1], [1], [0]])  # XOR problem\n",
    "\n",
    "    # Initialize weights for a simple neural network (2 input neurons, 2 hidden neurons, 1 output neuron)\n",
    "    weights = [\n",
    "        np.random.rand(2, 2),  # Weights between input and hidden layer\n",
    "        np.random.rand(2, 1)   # Weights between hidden and output layer\n",
    "    ]\n",
    "\n",
    "    # Train the neural network using mini-batch gradient descent\n",
    "    optimized_weights = mini_batch_gradient_descent(X, y, weights, learning_rate=0.1, batch_size=2, epochs=10000)\n",
    "\n",
    "    # Print the optimized weights\n",
    "    for i, weight in enumerate(optimized_weights):\n",
    "        print(f\"Layer {i + 1} weights:\\n{weight}\")\n"
   ]
  },
  {
   "cell_type": "markdown",
   "metadata": {},
   "source": [
    "13. Problem: Implement k-means clustering from scratch. Given a dataset and the number of\n",
    "clusters k , return the cluster assignments for each data point."
   ]
  },
  {
   "cell_type": "code",
   "execution_count": 14,
   "metadata": {},
   "outputs": [
    {
     "name": "stdout",
     "output_type": "stream",
     "text": [
      "Cluster assignments for each data point: [0 1 0 0 1 0]\n"
     ]
    }
   ],
   "source": [
    "import numpy as np\n",
    "\n",
    "def initialize_centroids(X, k):\n",
    "    \"\"\"Randomly select k data points as initial centroids.\"\"\"\n",
    "    np.random.seed(42)  # For reproducibility\n",
    "    random_indices = np.random.choice(X.shape[0], k, replace=False)\n",
    "    return X[random_indices]\n",
    "\n",
    "def assign_clusters(X, centroids):\n",
    "    \"\"\"Assign each data point to the nearest centroid.\"\"\"\n",
    "    distances = np.linalg.norm(X[:, np.newaxis] - centroids, axis=2)\n",
    "    return np.argmin(distances, axis=1)\n",
    "\n",
    "def update_centroids(X, labels, k):\n",
    "    \"\"\"Update centroids by calculating the mean of the assigned data points.\"\"\"\n",
    "    new_centroids = np.array([X[labels == i].mean(axis=0) for i in range(k)])\n",
    "    return new_centroids\n",
    "\n",
    "def k_means(X, k, max_iters=100, tol=1e-4):\n",
    "    \"\"\"Perform K-means clustering.\n",
    "    \n",
    "    :param X: Input data points (shape: n_samples x n_features).\n",
    "    :param k: Number of clusters.\n",
    "    :param max_iters: Maximum number of iterations.\n",
    "    :param tol: Tolerance to check for convergence.\n",
    "    :return: Cluster assignments for each data point.\n",
    "    \"\"\"\n",
    "    centroids = initialize_centroids(X, k)\n",
    "    \n",
    "    for i in range(max_iters):\n",
    "        # Step 1: Assign clusters\n",
    "        labels = assign_clusters(X, centroids)\n",
    "        \n",
    "        # Step 2: Update centroids\n",
    "        new_centroids = update_centroids(X, labels, k)\n",
    "        \n",
    "        # Check for convergence\n",
    "        if np.all(np.linalg.norm(new_centroids - centroids, axis=1) < tol):\n",
    "            break\n",
    "        \n",
    "        centroids = new_centroids\n",
    "    \n",
    "    return labels\n",
    "\n",
    "# Example usage\n",
    "if __name__ == \"__main__\":\n",
    "    # Sample data: 2D points\n",
    "    X = np.array([[1, 2], [1, 4], [1, 0],\n",
    "                  [10, 2], [10, 4], [10, 0]])\n",
    "\n",
    "    k = 2  # Number of clusters\n",
    "    labels = k_means(X, k)\n",
    "\n",
    "    # Print the cluster assignments\n",
    "    print(\"Cluster assignments for each data point:\", labels)\n"
   ]
  },
  {
   "cell_type": "markdown",
   "metadata": {},
   "source": [
    "14. Problem: Implement a Python function to calculate the softmax of a list of numbers, which\n",
    "is used in multi-class classification problems."
   ]
  },
  {
   "cell_type": "code",
   "execution_count": 15,
   "metadata": {},
   "outputs": [
    {
     "name": "stdout",
     "output_type": "stream",
     "text": [
      "Probabilities: [0.65900114 0.24243297 0.09856589]\n",
      "Sum of probabilities: 1.0\n"
     ]
    }
   ],
   "source": [
    "import numpy as np\n",
    "\n",
    "def softmax(logits):\n",
    "    \"\"\"\n",
    "    Compute the softmax of a list of numbers.\n",
    "    \n",
    "    :param logits: A list or NumPy array of raw scores (logits).\n",
    "    :return: A NumPy array of probabilities corresponding to each input score.\n",
    "    \"\"\"\n",
    "    # Subtract the max for numerical stability\n",
    "    exp_logits = np.exp(logits - np.max(logits))\n",
    "    return exp_logits / exp_logits.sum()\n",
    "\n",
    "# Example usage\n",
    "if __name__ == \"__main__\":\n",
    "    # Sample logits (raw scores)\n",
    "    logits = [2.0, 1.0, 0.1]\n",
    "    \n",
    "    probabilities = softmax(logits)\n",
    "    print(\"Probabilities:\", probabilities)\n",
    "    print(\"Sum of probabilities:\", np.sum(probabilities))\n"
   ]
  },
  {
   "cell_type": "markdown",
   "metadata": {},
   "source": [
    "15. Problem: Write a Python function to compute the TF-IDF (Term Frequency-Inverse\n",
    "Document Frequency) for a list of documents."
   ]
  },
  {
   "cell_type": "code",
   "execution_count": 16,
   "metadata": {},
   "outputs": [
    {
     "name": "stdout",
     "output_type": "stream",
     "text": [
      "Document 1 TF-IDF scores: {'the': -0.11507282898071236, 'cat': 0.0, 'in': 0.0, 'hat': 0.08109302162163289}\n",
      "Document 2 TF-IDF scores: {'the': -0.11507282898071236, 'dog': 0.0, 'in': 0.0, 'fog': 0.08109302162163289}\n",
      "Document 3 TF-IDF scores: {'the': -0.11507282898071236, 'cat': 0.0, 'and': 0.08109302162163289, 'dog': 0.0}\n"
     ]
    }
   ],
   "source": [
    "import numpy as np\n",
    "from collections import Counter\n",
    "import math\n",
    "\n",
    "def compute_tf(doc):\n",
    "    \"\"\"Compute the term frequency (TF) for a single document.\"\"\"\n",
    "    tf_count = Counter(doc)\n",
    "    tf = {word: count / len(doc) for word, count in tf_count.items()}\n",
    "    return tf\n",
    "\n",
    "def compute_idf(documents):\n",
    "    \"\"\"Compute the inverse document frequency (IDF) for the list of documents.\"\"\"\n",
    "    N = len(documents)\n",
    "    idf = {}\n",
    "    all_words = set(word for doc in documents for word in doc)\n",
    "\n",
    "    for word in all_words:\n",
    "        count = sum(1 for doc in documents if word in doc)\n",
    "        idf[word] = math.log(N / (1 + count))  # Adding 1 to avoid division by zero\n",
    "\n",
    "    return idf\n",
    "\n",
    "def compute_tfidf(documents):\n",
    "    \"\"\"Compute the TF-IDF for a list of documents.\"\"\"\n",
    "    tfidf = []\n",
    "    idf = compute_idf(documents)\n",
    "\n",
    "    for doc in documents:\n",
    "        tf = compute_tf(doc)\n",
    "        tfidf_doc = {word: tf[word] * idf[word] for word in doc}\n",
    "        tfidf.append(tfidf_doc)\n",
    "\n",
    "    return tfidf\n",
    "\n",
    "# Example usage\n",
    "if __name__ == \"__main__\":\n",
    "    documents = [\n",
    "        [\"the\", \"cat\", \"in\", \"the\", \"hat\"],\n",
    "        [\"the\", \"dog\", \"in\", \"the\", \"fog\"],\n",
    "        [\"the\", \"cat\", \"and\", \"the\", \"dog\"]\n",
    "    ]\n",
    "    \n",
    "    tfidf_scores = compute_tfidf(documents)\n",
    "    for i, doc in enumerate(tfidf_scores):\n",
    "        print(f\"Document {i+1} TF-IDF scores: {doc}\")\n"
   ]
  },
  {
   "cell_type": "markdown",
   "metadata": {},
   "source": [
    "16. Problem: Implement an algorithm to find the principal components of a dataset using\n",
    "singular value decomposition (SVD), which is a core part of PCA (Principal Component\n",
    "Analysis)"
   ]
  },
  {
   "cell_type": "code",
   "execution_count": 17,
   "metadata": {},
   "outputs": [
    {
     "name": "stdout",
     "output_type": "stream",
     "text": [
      "Projected data:\n",
      " [[-0.82797019]\n",
      " [ 1.77758033]\n",
      " [-0.99219749]\n",
      " [-0.27421042]\n",
      " [-1.67580142]\n",
      " [-0.9129491 ]\n",
      " [ 0.09910944]\n",
      " [ 1.14457216]\n",
      " [ 0.43804614]\n",
      " [ 1.22382056]]\n",
      "Principal components:\n",
      " [[-0.6778734 ]\n",
      " [-0.73517866]]\n"
     ]
    }
   ],
   "source": [
    "import numpy as np\n",
    "\n",
    "def pca_svd(X, num_components):\n",
    "    \"\"\"\n",
    "    Perform PCA using Singular Value Decomposition (SVD).\n",
    "    \n",
    "    :param X: Input data matrix (shape: n_samples x n_features).\n",
    "    :param num_components: Number of principal components to return.\n",
    "    :return: Projected data onto the principal components.\n",
    "    \"\"\"\n",
    "    # Step 1: Center the data (subtract the mean)\n",
    "    X_centered = X - np.mean(X, axis=0)\n",
    "\n",
    "    # Step 2: Perform Singular Value Decomposition\n",
    "    U, S, Vt = np.linalg.svd(X_centered, full_matrices=False)\n",
    "\n",
    "    # Step 3: Select the first num_components principal components\n",
    "    W = Vt[:num_components].T  # Get the first `num_components` rows and transpose\n",
    "    \n",
    "    # Step 4: Project the data onto the principal components\n",
    "    X_pca = X_centered.dot(W)\n",
    "\n",
    "    return X_pca, W\n",
    "\n",
    "# Example usage\n",
    "if __name__ == \"__main__\":\n",
    "    # Sample data: 5 samples with 3 features\n",
    "    X = np.array([[2.5, 2.4],\n",
    "                  [0.5, 0.7],\n",
    "                  [2.2, 2.9],\n",
    "                  [1.9, 2.2],\n",
    "                  [3.1, 3.0],\n",
    "                  [2.3, 2.7],\n",
    "                  [2, 1.6],\n",
    "                  [1, 1.1],\n",
    "                  [1.5, 1.6],\n",
    "                  [1.1, 0.9]])\n",
    "\n",
    "    num_components = 1  # Number of principal components\n",
    "    X_pca, components = pca_svd(X, num_components)\n",
    "\n",
    "    print(\"Projected data:\\n\", X_pca)\n",
    "    print(\"Principal components:\\n\", components)\n"
   ]
  },
  {
   "cell_type": "markdown",
   "metadata": {},
   "source": [
    "17. Problem: Write a Python function to calculate the AUC-ROC score for a binary\n",
    "classification problem, given the true labels and predicted probabilities."
   ]
  },
  {
   "cell_type": "code",
   "execution_count": 18,
   "metadata": {},
   "outputs": [
    {
     "data": {
      "image/png": "[encoded data removed]",
      "text/plain": [
       "<Figure size 640x480 with 1 Axes>"
      ]
     },
     "metadata": {},
     "output_type": "display_data"
    },
    {
     "name": "stdout",
     "output_type": "stream",
     "text": [
      "AUC-ROC score: 0.92\n"
     ]
    }
   ],
   "source": [
    "import numpy as np\n",
    "import matplotlib.pyplot as plt\n",
    "from sklearn.metrics import roc_curve, auc\n",
    "\n",
    "def calculate_auc_roc(true_labels, predicted_probs):\n",
    "    \"\"\"\n",
    "    Calculate the AUC-ROC score and plot the ROC curve.\n",
    "    \n",
    "    :param true_labels: Array-like of true binary labels (0 or 1).\n",
    "    :param predicted_probs: Array-like of predicted probabilities for the positive class.\n",
    "    :return: AUC score.\n",
    "    \"\"\"\n",
    "    # Step 1: Compute the ROC curve\n",
    "    fpr, tpr, thresholds = roc_curve(true_labels, predicted_probs)\n",
    "    \n",
    "    # Step 2: Calculate the AUC score\n",
    "    auc_score = auc(fpr, tpr)\n",
    "    \n",
    "    # Step 3: Plot the ROC curve\n",
    "    plt.figure()\n",
    "    plt.plot(fpr, tpr, color='blue', lw=2, label='ROC curve (area = {:.2f})'.format(auc_score))\n",
    "    plt.plot([0, 1], [0, 1], color='red', lw=2, linestyle='--')  # Diagonal line\n",
    "    plt.xlim([0.0, 1.0])\n",
    "    plt.ylim([0.0, 1.0])\n",
    "    plt.xlabel('False Positive Rate')\n",
    "    plt.ylabel('True Positive Rate')\n",
    "    plt.title('Receiver Operating Characteristic')\n",
    "    plt.legend(loc='lower right')\n",
    "    plt.grid()\n",
    "    plt.show()\n",
    "    \n",
    "    return auc_score\n",
    "\n",
    "# Example usage\n",
    "if __name__ == \"__main__\":\n",
    "    # Sample true labels and predicted probabilities\n",
    "    true_labels = np.array([0, 0, 1, 1, 0, 1, 1, 0, 1, 0])\n",
    "    predicted_probs = np.array([0.1, 0.4, 0.35, 0.8, 0.2, 0.95, 0.85, 0.5, 0.6, 0.3])\n",
    "    \n",
    "    auc_score = calculate_auc_roc(true_labels, predicted_probs)\n",
    "    print(\"AUC-ROC score:\", auc_score)\n"
   ]
  },
  {
   "cell_type": "markdown",
   "metadata": {},
   "source": [
    "18. Problem: Implement a Python function to apply dropout regularization to the neurons of a\n",
    "given neural network during training"
   ]
  },
  {
   "cell_type": "code",
   "execution_count": 19,
   "metadata": {},
   "outputs": [
    {
     "name": "stdout",
     "output_type": "stream",
     "text": [
      "Original Input:\n",
      " [[0.2 0.8 0.5 0.1]\n",
      " [0.4 0.3 0.6 0.7]\n",
      " [0.5 0.2 0.1 0.9]\n",
      " [0.6 0.4 0.3 0.2]\n",
      " [0.9 0.5 0.2 0.8]]\n",
      "Input After Dropout:\n",
      " [[0.28571429 0.         0.         0.        ]\n",
      " [0.57142857 0.42857143 0.85714286 0.        ]\n",
      " [0.71428571 0.28571429 0.         0.        ]\n",
      " [0.         0.57142857 0.42857143 0.28571429]\n",
      " [0.         0.71428571 0.         0.        ]]\n",
      "Dropout Mask:\n",
      " [[ True False False False]\n",
      " [ True  True  True False]\n",
      " [ True  True False False]\n",
      " [False  True  True  True]\n",
      " [False  True False False]]\n"
     ]
    }
   ],
   "source": [
    "import numpy as np\n",
    "\n",
    "def dropout(X, dropout_rate):\n",
    "    \"\"\"\n",
    "    Apply dropout to the input data.\n",
    "\n",
    "    :param X: Input data (shape: n_samples x n_neurons).\n",
    "    :param dropout_rate: The probability of dropping a neuron (between 0 and 1).\n",
    "    :return: Data after applying dropout and the dropout mask.\n",
    "    \"\"\"\n",
    "    # Generate a dropout mask\n",
    "    mask = np.random.rand(*X.shape) > dropout_rate\n",
    "    # Scale the output by the inverse of (1 - dropout_rate) during training\n",
    "    scaled_output = X * mask / (1 - dropout_rate)\n",
    "    return scaled_output, mask\n",
    "\n",
    "# Example usage\n",
    "if __name__ == \"__main__\":\n",
    "    # Sample input data (5 samples with 4 neurons)\n",
    "    X = np.array([[0.2, 0.8, 0.5, 0.1],\n",
    "                  [0.4, 0.3, 0.6, 0.7],\n",
    "                  [0.5, 0.2, 0.1, 0.9],\n",
    "                  [0.6, 0.4, 0.3, 0.2],\n",
    "                  [0.9, 0.5, 0.2, 0.8]])\n",
    "\n",
    "    dropout_rate = 0.3  # 30% dropout\n",
    "    X_dropped, mask = dropout(X, dropout_rate)\n",
    "\n",
    "    print(\"Original Input:\\n\", X)\n",
    "    print(\"Input After Dropout:\\n\", X_dropped)\n",
    "    print(\"Dropout Mask:\\n\", mask)\n"
   ]
  },
  {
   "cell_type": "markdown",
   "metadata": {},
   "source": [
    "19. Problem: Write a Python function to perform feature scaling using standardization (z-score\n",
    "normalization), which transforms features to have a mean of 0 and a standard deviation of 1."
   ]
  },
  {
   "cell_type": "code",
   "execution_count": 20,
   "metadata": {},
   "outputs": [
    {
     "name": "stdout",
     "output_type": "stream",
     "text": [
      "Original Input:\n",
      " [[1. 2. 3.]\n",
      " [2. 3. 4.]\n",
      " [3. 4. 5.]\n",
      " [4. 5. 6.]\n",
      " [5. 6. 7.]]\n",
      "Standardized Output:\n",
      " [[-1.41421356 -1.41421356 -1.41421356]\n",
      " [-0.70710678 -0.70710678 -0.70710678]\n",
      " [ 0.          0.          0.        ]\n",
      " [ 0.70710678  0.70710678  0.70710678]\n",
      " [ 1.41421356  1.41421356  1.41421356]]\n",
      "Mean of Standardized Output:\n",
      " [0. 0. 0.]\n",
      "Std Dev of Standardized Output:\n",
      " [1. 1. 1.]\n"
     ]
    }
   ],
   "source": [
    "import numpy as np\n",
    "\n",
    "def standardize(X):\n",
    "    \"\"\"\n",
    "    Standardize the features of the dataset using z-score normalization.\n",
    "\n",
    "    :param X: Input data (shape: n_samples x n_features).\n",
    "    :return: Standardized data with mean 0 and standard deviation 1.\n",
    "    \"\"\"\n",
    "    # Calculate the mean and standard deviation for each feature\n",
    "    mean = np.mean(X, axis=0)\n",
    "    std_dev = np.std(X, axis=0)\n",
    "    \n",
    "    # Standardize the data\n",
    "    standardized_X = (X - mean) / std_dev\n",
    "    \n",
    "    return standardized_X\n",
    "\n",
    "# Example usage\n",
    "if __name__ == \"__main__\":\n",
    "    # Sample input data (5 samples with 3 features)\n",
    "    X = np.array([[1.0, 2.0, 3.0],\n",
    "                  [2.0, 3.0, 4.0],\n",
    "                  [3.0, 4.0, 5.0],\n",
    "                  [4.0, 5.0, 6.0],\n",
    "                  [5.0, 6.0, 7.0]])\n",
    "\n",
    "    standardized_X = standardize(X)\n",
    "\n",
    "    print(\"Original Input:\\n\", X)\n",
    "    print(\"Standardized Output:\\n\", standardized_X)\n",
    "    print(\"Mean of Standardized Output:\\n\", np.mean(standardized_X, axis=0))\n",
    "    print(\"Std Dev of Standardized Output:\\n\", np.std(standardized_X, axis=0))\n"
   ]
  },
  {
   "cell_type": "markdown",
   "metadata": {},
   "source": [
    "20. Problem: Implement a Python function to compute the cross-entropy loss for a multi-class\n",
    "classification problem, given the true labels and predicted probabilities."
   ]
  },
  {
   "cell_type": "code",
   "execution_count": 21,
   "metadata": {},
   "outputs": [
    {
     "name": "stdout",
     "output_type": "stream",
     "text": [
      "Cross-Entropy Loss: 0.44594782489471957\n"
     ]
    }
   ],
   "source": [
    "import numpy as np\n",
    "\n",
    "def cross_entropy_loss(y_true, y_pred):\n",
    "    \"\"\"\n",
    "    Compute the cross-entropy loss for multi-class classification.\n",
    "\n",
    "    :param y_true: True labels (one-hot encoded or integer class labels).\n",
    "    :param y_pred: Predicted probabilities for each class (shape: n_samples x n_classes).\n",
    "    :return: Cross-entropy loss.\n",
    "    \"\"\"\n",
    "    # Ensure y_pred is a proper probability distribution\n",
    "    y_pred = np.clip(y_pred, 1e-15, 1 - 1e-15)  # Clip to avoid log(0)\n",
    "    \n",
    "    # If y_true is in one-hot encoded format, we can compute the loss directly\n",
    "    if y_true.ndim == 1:\n",
    "        # Convert integer class labels to one-hot encoding\n",
    "        n_samples = y_true.shape[0]\n",
    "        n_classes = y_pred.shape[1]\n",
    "        one_hot_y_true = np.zeros((n_samples, n_classes))\n",
    "        one_hot_y_true[np.arange(n_samples), y_true] = 1\n",
    "        y_true = one_hot_y_true\n",
    "\n",
    "    # Compute the cross-entropy loss\n",
    "    loss = -np.mean(np.sum(y_true * np.log(y_pred), axis=1))\n",
    "    return loss\n",
    "\n",
    "# Example usage\n",
    "if __name__ == \"__main__\":\n",
    "    # True labels (can be integer class labels or one-hot encoded)\n",
    "    y_true = np.array([0, 1, 2, 1])  # Integer class labels for 4 samples\n",
    "\n",
    "    # Predicted probabilities (for 3 classes)\n",
    "    y_pred = np.array([[0.7, 0.2, 0.1],  # Prediction for sample 1\n",
    "                       [0.1, 0.8, 0.1],  # Prediction for sample 2\n",
    "                       [0.2, 0.3, 0.5],  # Prediction for sample 3\n",
    "                       [0.3, 0.6, 0.1]]) # Prediction for sample 4\n",
    "\n",
    "    loss = cross_entropy_loss(y_true, y_pred)\n",
    "\n",
    "    print(\"Cross-Entropy Loss:\", loss)\n"
   ]
  }
 ],
 "metadata": {
  "kernelspec": {
   "display_name": "Python 3",
   "language": "python",
   "name": "python3"
  },
  "language_info": {
   "codemirror_mode": {
    "name": "ipython",
    "version": 3
   },
   "file_extension": ".py",
   "mimetype": "text/x-python",
   "name": "python",
   "nbconvert_exporter": "python",
   "pygments_lexer": "ipython3",
   "version": "3.12.4"
  }
 },
 "nbformat": 4,
 "nbformat_minor": 2
}
