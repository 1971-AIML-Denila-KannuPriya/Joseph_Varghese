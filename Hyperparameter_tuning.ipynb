{
 "cells": [
  {
   "cell_type": "code",
   "execution_count": 1,
   "metadata": {},
   "outputs": [],
   "source": [
    "import pandas as pd"
   ]
  },
  {
   "cell_type": "code",
   "execution_count": 4,
   "metadata": {},
   "outputs": [],
   "source": [
    "df = pd.read_csv(\"diabetes.csv\")  \n"
   ]
  },
  {
   "cell_type": "code",
   "execution_count": 5,
   "metadata": {},
   "outputs": [
    {
     "name": "stdout",
     "output_type": "stream",
     "text": [
      "Training with learning rate: 0.001, batch size: 5, epochs: 50\n"
     ]
    },
    {
     "name": "stderr",
     "output_type": "stream",
     "text": [
      "c:\\Python312\\Lib\\site-packages\\keras\\src\\layers\\core\\dense.py:87: UserWarning: Do not pass an `input_shape`/`input_dim` argument to a layer. When using Sequential models, prefer using an `Input(shape)` object as the first layer in the model instead.\n",
      "  super().__init__(activity_regularizer=activity_regularizer, **kwargs)\n"
     ]
    },
    {
     "name": "stdout",
     "output_type": "stream",
     "text": [
      "Accuracy: 0.6558441519737244\n",
      "Training with learning rate: 0.001, batch size: 5, epochs: 100\n",
      "Accuracy: 0.6688311696052551\n",
      "Training with learning rate: 0.001, batch size: 10, epochs: 50\n",
      "Accuracy: 0.6883116960525513\n",
      "Training with learning rate: 0.001, batch size: 10, epochs: 100\n",
      "Accuracy: 0.6623376607894897\n",
      "Training with learning rate: 0.001, batch size: 20, epochs: 50\n",
      "Accuracy: 0.6753246784210205\n",
      "Training with learning rate: 0.001, batch size: 20, epochs: 100\n",
      "Accuracy: 0.7532467246055603\n",
      "Training with learning rate: 0.01, batch size: 5, epochs: 50\n",
      "Accuracy: 0.6948052048683167\n",
      "Training with learning rate: 0.01, batch size: 5, epochs: 100\n",
      "Accuracy: 0.6818181872367859\n",
      "Training with learning rate: 0.01, batch size: 10, epochs: 50\n",
      "Accuracy: 0.6948052048683167\n",
      "Training with learning rate: 0.01, batch size: 10, epochs: 100\n",
      "Accuracy: 0.7467532753944397\n",
      "Training with learning rate: 0.01, batch size: 20, epochs: 50\n",
      "Accuracy: 0.6363636255264282\n",
      "Training with learning rate: 0.01, batch size: 20, epochs: 100\n",
      "Accuracy: 0.6428571343421936\n",
      "Training with learning rate: 0.1, batch size: 5, epochs: 50\n",
      "Accuracy: 0.6428571343421936\n",
      "Training with learning rate: 0.1, batch size: 5, epochs: 100\n",
      "Accuracy: 0.6688311696052551\n",
      "Training with learning rate: 0.1, batch size: 10, epochs: 50\n",
      "Accuracy: 0.6038960814476013\n",
      "Training with learning rate: 0.1, batch size: 10, epochs: 100\n",
      "Accuracy: 0.6883116960525513\n",
      "Training with learning rate: 0.1, batch size: 20, epochs: 50\n",
      "Accuracy: 0.6948052048683167\n",
      "Training with learning rate: 0.1, batch size: 20, epochs: 100\n",
      "Accuracy: 0.6753246784210205\n",
      "Best Accuracy: 0.7532467246055603\n",
      "Best Parameters: {'learning_rate': 0.001, 'batch_size': 20, 'epochs': 100}\n"
     ]
    }
   ],
   "source": [
    "from keras.models import Sequential\n",
    "from keras.layers import Dense\n",
    "from sklearn.model_selection import train_test_split\n",
    "import numpy as np\n",
    "\n",
    "# Load your cleaned dataset\n",
    "# Assuming df is your cleaned DataFrame\n",
    "X = df.drop('Outcome', axis=1).values  # Features\n",
    "y = df['Outcome'].values  # Target variable\n",
    "\n",
    "# Split the data\n",
    "X_train, X_test, y_train, y_test = train_test_split(X, y, test_size=0.2, random_state=42)\n",
    "\n",
    "# Define a function to create the model\n",
    "def create_model(learning_rate):\n",
    "    model = Sequential()\n",
    "    model.add(Dense(12, input_dim=X_train.shape[1], activation='relu'))\n",
    "    model.add(Dense(8, activation='relu'))\n",
    "    model.add(Dense(1, activation='sigmoid'))\n",
    "    model.compile(loss='binary_crossentropy', optimizer='adam', metrics=['accuracy'])\n",
    "    return model\n",
    "\n",
    "# Hyperparameter tuning\n",
    "learning_rates = [0.001, 0.01, 0.1]\n",
    "batch_sizes = [5, 10, 20]\n",
    "epochs = [50, 100]\n",
    "\n",
    "best_accuracy = 0\n",
    "best_params = {}\n",
    "\n",
    "for lr in learning_rates:\n",
    "    for batch_size in batch_sizes:\n",
    "        for epoch in epochs:\n",
    "            print(f\"Training with learning rate: {lr}, batch size: {batch_size}, epochs: {epoch}\")\n",
    "            model = create_model(lr)\n",
    "            model.fit(X_train, y_train, epochs=epoch, batch_size=batch_size, validation_split=0.2, verbose=0)\n",
    "            _, accuracy = model.evaluate(X_test, y_test, verbose=0)\n",
    "            print(f\"Accuracy: {accuracy}\")\n",
    "\n",
    "            if accuracy > best_accuracy:\n",
    "                best_accuracy = accuracy\n",
    "                best_params = {'learning_rate': lr, 'batch_size': batch_size, 'epochs': epoch}\n",
    "\n",
    "print(\"Best Accuracy:\", best_accuracy)\n",
    "print(\"Best Parameters:\", best_params)\n"
   ]
  }
 ],
 "metadata": {
  "kernelspec": {
   "display_name": "Python 3",
   "language": "python",
   "name": "python3"
  },
  "language_info": {
   "codemirror_mode": {
    "name": "ipython",
    "version": 3
   },
   "file_extension": ".py",
   "mimetype": "text/x-python",
   "name": "python",
   "nbconvert_exporter": "python",
   "pygments_lexer": "ipython3",
   "version": "3.12.4"
  }
 },
 "nbformat": 4,
 "nbformat_minor": 2
}
